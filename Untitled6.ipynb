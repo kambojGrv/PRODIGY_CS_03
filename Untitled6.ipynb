{
 "cells": [
  {
   "cell_type": "code",
   "execution_count": 3,
   "id": "b275f02c-f68c-4ed1-bb3d-2ab23a225919",
   "metadata": {},
   "outputs": [
    {
     "name": "stdin",
     "output_type": "stream",
     "text": [
      "Enter your password:  123456@qazwsxedc\n"
     ]
    },
    {
     "name": "stdout",
     "output_type": "stream",
     "text": [
      "\n",
      "Password Strength: Strong 👍\n",
      "\n",
      "Suggestions to improve your password:\n",
      " - Include at least one uppercase letter.\n"
     ]
    }
   ],
   "source": [
    "import re\n",
    "\n",
    "def assess_password_strength(password):\n",
    "    feedback = []\n",
    "    score = 0\n",
    "\n",
    "    # Length check\n",
    "    if len(password) >= 8:\n",
    "        score += 1\n",
    "    else:\n",
    "        feedback.append(\"Password should be at least 8 characters long.\")\n",
    "\n",
    "    # Lowercase check\n",
    "    if re.search(r'[a-z]', password):\n",
    "        score += 1\n",
    "    else:\n",
    "        feedback.append(\"Include at least one lowercase letter.\")\n",
    "\n",
    "    # Uppercase check\n",
    "    if re.search(r'[A-Z]', password):\n",
    "        score += 1\n",
    "    else:\n",
    "        feedback.append(\"Include at least one uppercase letter.\")\n",
    "\n",
    "    # Digit check\n",
    "    if re.search(r'\\d', password):\n",
    "        score += 1\n",
    "    else:\n",
    "        feedback.append(\"Include at least one number.\")\n",
    "\n",
    "    # Special character check\n",
    "    if re.search(r'[!@#$%^&*(),.?\":{}|<>]', password):\n",
    "        score += 1\n",
    "    else:\n",
    "        feedback.append(\"Include at least one special character (e.g., !, @, #, etc.).\")\n",
    "\n",
    "    # Strength levels\n",
    "    strength_levels = {\n",
    "        5: \"Very Strong 💪\",\n",
    "        4: \"Strong 👍\",\n",
    "        3: \"Moderate 😐\",\n",
    "        2: \"Weak 😟\",\n",
    "        1: \"Very Weak ⚠️\",\n",
    "        0: \"Extremely Weak 🚫\"\n",
    "    }\n",
    "\n",
    "    return strength_levels[score], feedback\n",
    "\n",
    "\n",
    "# ----------- Test and Input ----------\n",
    "if __name__ == \"__main__\":\n",
    "    password = input(\"Enter your password: \")\n",
    "    strength, suggestions = assess_password_strength(password)\n",
    "\n",
    "    print(f\"\\nPassword Strength: {strength}\")\n",
    "    if suggestions:\n",
    "        print(\"\\nSuggestions to improve your password:\")\n",
    "        for s in suggestions:\n",
    "            print(f\" - {s}\")\n",
    "    else:\n",
    "        print(\"Great! Your password is strong.\")"
   ]
  },
  {
   "cell_type": "code",
   "execution_count": null,
   "id": "a0938e6c-5c11-40e9-bdb8-5f9283b68a98",
   "metadata": {},
   "outputs": [],
   "source": []
  }
 ],
 "metadata": {
  "kernelspec": {
   "display_name": "Python 3 (ipykernel)",
   "language": "python",
   "name": "python3"
  },
  "language_info": {
   "codemirror_mode": {
    "name": "ipython",
    "version": 3
   },
   "file_extension": ".py",
   "mimetype": "text/x-python",
   "name": "python",
   "nbconvert_exporter": "python",
   "pygments_lexer": "ipython3",
   "version": "3.12.4"
  }
 },
 "nbformat": 4,
 "nbformat_minor": 5
}
